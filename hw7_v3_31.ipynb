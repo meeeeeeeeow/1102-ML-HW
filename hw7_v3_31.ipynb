{
 "cells": [
  {
   "cell_type": "markdown",
   "metadata": {
    "id": "xvSGDbExff_I"
   },
   "source": [
    "# **Homework 7 - Bert (Question Answering)**\n",
    "\n",
    "If you have any questions, feel free to email us at mlta-2022-spring@googlegroups.com\n",
    "\n",
    "\n",
    "\n",
    "Slide:    [Link](https://docs.google.com/presentation/d/1H5ZONrb2LMOCixLY7D5_5-7LkIaXO6AGEaV2mRdTOMY/edit?usp=sharing)　Kaggle: [Link](https://www.kaggle.com/c/ml2022spring-hw7)　Data: [Link](https://drive.google.com/uc?id=1AVgZvy3VFeg0fX-6WQJMHPVrx3A-M1kb)\n",
    "\n",
    "\n"
   ]
  },
  {
   "cell_type": "markdown",
   "metadata": {
    "id": "WGOr_eS3wJJf"
   },
   "source": [
    "## Task description\n",
    "- Chinese Extractive Question Answering\n",
    "  - Input: Paragraph + Question\n",
    "  - Output: Answer\n",
    "\n",
    "- Objective: Learn how to fine tune a pretrained model on downstream task using transformers\n",
    "\n",
    "- Todo\n",
    "    - Fine tune a pretrained chinese BERT model\n",
    "    - Change hyperparameters (e.g. doc_stride)\n",
    "    - Apply linear learning rate decay\n",
    "    - Try other pretrained models\n",
    "    - Improve preprocessing\n",
    "    - Improve postprocessing\n",
    "- Training tips\n",
    "    - Automatic mixed precision\n",
    "    - Gradient accumulation\n",
    "    - Ensemble\n",
    "\n",
    "- Estimated training time (tesla t4 with automatic mixed precision enabled)\n",
    "    - Simple: 8mins\n",
    "    - Medium: 8mins\n",
    "    - Strong: 25mins\n",
    "    - Boss: 2.5hrs\n",
    "  "
   ]
  },
  {
   "cell_type": "markdown",
   "metadata": {
    "id": "TJ1fSAJE2oaC"
   },
   "source": [
    "## Download Dataset"
   ]
  },
  {
   "cell_type": "code",
   "execution_count": 5,
   "metadata": {
    "id": "YPrc4Eie9Yo5"
   },
   "outputs": [
    {
     "name": "stdout",
     "output_type": "stream",
     "text": [
      "Tue Apr 19 16:26:38 2022       \n",
      "+-----------------------------------------------------------------------------+\n",
      "| NVIDIA-SMI 460.91.03    Driver Version: 460.91.03    CUDA Version: 11.2     |\n",
      "|-------------------------------+----------------------+----------------------+\n",
      "| GPU  Name        Persistence-M| Bus-Id        Disp.A | Volatile Uncorr. ECC |\n",
      "| Fan  Temp  Perf  Pwr:Usage/Cap|         Memory-Usage | GPU-Util  Compute M. |\n",
      "|                               |                      |               MIG M. |\n",
      "|===============================+======================+======================|\n",
      "|   0  GeForce RTX 208...  On   | 00000000:1B:00.0 Off |                  N/A |\n",
      "| 59%   67C    P2   130W / 225W |  10769MiB / 11019MiB |     73%      Default |\n",
      "|                               |                      |                  N/A |\n",
      "+-------------------------------+----------------------+----------------------+\n",
      "|   1  GeForce RTX 208...  On   | 00000000:1C:00.0 Off |                  N/A |\n",
      "| 37%   65C    P2   220W / 225W |  10519MiB / 11019MiB |     95%      Default |\n",
      "|                               |                      |                  N/A |\n",
      "+-------------------------------+----------------------+----------------------+\n",
      "|   2  GeForce RTX 208...  On   | 00000000:1D:00.0 Off |                  N/A |\n",
      "| 30%   34C    P8    15W / 225W |   6162MiB / 11019MiB |      0%      Default |\n",
      "|                               |                      |                  N/A |\n",
      "+-------------------------------+----------------------+----------------------+\n",
      "|   3  GeForce RTX 208...  On   | 00000000:1E:00.0 Off |                  N/A |\n",
      "| 31%   37C    P8    19W / 225W |   8913MiB / 11019MiB |      0%      Default |\n",
      "|                               |                      |                  N/A |\n",
      "+-------------------------------+----------------------+----------------------+\n",
      "|   4  GeForce RTX 208...  On   | 00000000:3D:00.0 Off |                  N/A |\n",
      "| 45%   64C    P2   232W / 225W |  10433MiB / 11019MiB |     83%      Default |\n",
      "|                               |                      |                  N/A |\n",
      "+-------------------------------+----------------------+----------------------+\n",
      "|   5  GeForce RTX 208...  On   | 00000000:3F:00.0 Off |                  N/A |\n",
      "| 49%   67C    P2   206W / 225W |   6968MiB / 11019MiB |      0%      Default |\n",
      "|                               |                      |                  N/A |\n",
      "+-------------------------------+----------------------+----------------------+\n",
      "|   6  GeForce RTX 208...  On   | 00000000:40:00.0 Off |                  N/A |\n",
      "| 34%   65C    P2   204W / 225W |   4862MiB / 11019MiB |     24%      Default |\n",
      "|                               |                      |                  N/A |\n",
      "+-------------------------------+----------------------+----------------------+\n",
      "|   7  GeForce RTX 208...  On   | 00000000:41:00.0 Off |                  N/A |\n",
      "| 30%   31C    P8     4W / 225W |      3MiB / 11019MiB |      0%      Default |\n",
      "|                               |                      |                  N/A |\n",
      "+-------------------------------+----------------------+----------------------+\n",
      "                                                                               \n",
      "+-----------------------------------------------------------------------------+\n",
      "| Processes:                                                                  |\n",
      "|  GPU   GI   CI        PID   Type   Process name                  GPU Memory |\n",
      "|        ID   ID                                                   Usage      |\n",
      "|=============================================================================|\n",
      "|    0   N/A  N/A     45085      C   ...envs/bev1.8/bin/python3.7      991MiB |\n",
      "|    0   N/A  N/A     63300      C   python                           9775MiB |\n",
      "|    1   N/A  N/A     10709      C   ...ehchi-eZPBS6yr/bin/python     6737MiB |\n",
      "|    1   N/A  N/A     29385      C   python                           3779MiB |\n",
      "|    2   N/A  N/A     41775      C   python                           6159MiB |\n",
      "|    3   N/A  N/A     17483      C   python                           3779MiB |\n",
      "|    3   N/A  N/A     45906      C   python                           5129MiB |\n",
      "|    4   N/A  N/A     45085      C   ...envs/bev1.8/bin/python3.7     2015MiB |\n",
      "|    4   N/A  N/A     60089      C   python                           8415MiB |\n",
      "|    5   N/A  N/A     35878      C   python                           6965MiB |\n",
      "|    6   N/A  N/A     35878      C   python                           4859MiB |\n",
      "+-----------------------------------------------------------------------------+\n"
     ]
    }
   ],
   "source": [
    "# # Download link 1\n",
    "# !gdown --id '1AVgZvy3VFeg0fX-6WQJMHPVrx3A-M1kb' --output hw7_data.zip\n",
    "\n",
    "# # Download Link 2 (if the above link fails) \n",
    "# # !gdown --id '1qwjbRjq481lHsnTrrF4OjKQnxzgoLEFR' --output hw7_data.zip\n",
    "\n",
    "# # Download Link 3 (if the above link fails) \n",
    "# # !gdown --id '1QXuWjNRZH6DscSd6QcRER0cnxmpZvijn' --output hw7_data.zip\n",
    "\n",
    "# !unzip -o hw7_data.zip\n",
    "\n",
    "# For this HW, K80 < P4 < T4 < P100 <= T4(fp16) < V100\n",
    "!nvidia-smi"
   ]
  },
  {
   "cell_type": "markdown",
   "metadata": {
    "id": "TevOvhC03m0h"
   },
   "source": [
    "## Install transformers\n",
    "\n",
    "Documentation for the toolkit:　https://huggingface.co/transformers/"
   ]
  },
  {
   "cell_type": "code",
   "execution_count": 10,
   "metadata": {
    "id": "tbxWFX_jpDom"
   },
   "outputs": [],
   "source": [
    "# # You are allowed to change version of transformers or use other toolkits\n",
    "# !pip install transformers==4.5.0"
   ]
  },
  {
   "cell_type": "markdown",
   "metadata": {
    "id": "8dKM4yCh4LI_"
   },
   "source": [
    "## Import Packages"
   ]
  },
  {
   "cell_type": "code",
   "execution_count": 1,
   "metadata": {},
   "outputs": [],
   "source": [
    "import os\n",
    "os.environ[\"CUDA_VISIBLE_DEVICES\"] = \"5\""
   ]
  },
  {
   "cell_type": "code",
   "execution_count": 2,
   "metadata": {
    "id": "WOTHHtWJoahe"
   },
   "outputs": [],
   "source": [
    "import json\n",
    "import numpy as np\n",
    "import random\n",
    "import torch\n",
    "from torch.utils.data import DataLoader, Dataset \n",
    "from transformers import AdamW, BertForQuestionAnswering, BertTokenizerFast, AutoTokenizer\n",
    "\n",
    "from tqdm.auto import tqdm\n",
    "\n",
    "device = \"cuda\" if torch.cuda.is_available() else \"cpu\"\n",
    "\n",
    "# Fix random seed for reproducibility\n",
    "def same_seeds(seed):\n",
    "\t  torch.manual_seed(seed)\n",
    "\t  if torch.cuda.is_available():\n",
    "\t\t    torch.cuda.manual_seed(seed)\n",
    "\t\t    torch.cuda.manual_seed_all(seed)\n",
    "\t  np.random.seed(seed)\n",
    "\t  random.seed(seed)\n",
    "\t  torch.backends.cudnn.benchmark = False\n",
    "\t  torch.backends.cudnn.deterministic = True\n",
    "same_seeds(16)"
   ]
  },
  {
   "cell_type": "code",
   "execution_count": 3,
   "metadata": {
    "id": "7pBtSZP1SKQO"
   },
   "outputs": [
    {
     "name": "stdout",
     "output_type": "stream",
     "text": [
      "Requirement already satisfied: accelerate==0.2.0 in /auto/master10/ivy8792/.local/share/virtualenvs/ivy8792-NO-Df_OY/lib/python3.6/site-packages (0.2.0)\n",
      "Requirement already satisfied: pyaml>=20.4.0 in /auto/master10/ivy8792/.local/share/virtualenvs/ivy8792-NO-Df_OY/lib/python3.6/site-packages (from accelerate==0.2.0) (21.10.1)\n",
      "Requirement already satisfied: torch>=1.4.0 in /auto/master10/ivy8792/.local/share/virtualenvs/ivy8792-NO-Df_OY/lib/python3.6/site-packages (from accelerate==0.2.0) (1.10.1)\n",
      "Requirement already satisfied: PyYAML in /auto/master10/ivy8792/.local/share/virtualenvs/ivy8792-NO-Df_OY/lib/python3.6/site-packages (from pyaml>=20.4.0->accelerate==0.2.0) (6.0)\n",
      "Requirement already satisfied: typing-extensions in /auto/master10/ivy8792/.local/share/virtualenvs/ivy8792-NO-Df_OY/lib/python3.6/site-packages (from torch>=1.4.0->accelerate==0.2.0) (3.7.4.3)\n",
      "Requirement already satisfied: dataclasses in /auto/master10/ivy8792/.local/share/virtualenvs/ivy8792-NO-Df_OY/lib/python3.6/site-packages (from torch>=1.4.0->accelerate==0.2.0) (0.8)\n"
     ]
    }
   ],
   "source": [
    "# Change \"fp16_training\" to True to support automatic mixed precision training (fp16)\t\n",
    "fp16_training = True\n",
    "\n",
    "if fp16_training:\n",
    "    !pip install accelerate==0.2.0\n",
    "    from accelerate import Accelerator\n",
    "    accelerator = Accelerator(fp16=True)\n",
    "    device = accelerator.device\n",
    "\n",
    "# Documentation for the toolkit:  https://huggingface.co/docs/accelerate/"
   ]
  },
  {
   "cell_type": "markdown",
   "metadata": {
    "id": "2YgXHuVLp_6j"
   },
   "source": [
    "## Load Model and Tokenizer\n",
    "\n",
    "\n",
    "\n",
    "\n",
    " "
   ]
  },
  {
   "cell_type": "code",
   "execution_count": 4,
   "metadata": {
    "id": "xyBCYGjAp3ym"
   },
   "outputs": [
    {
     "name": "stderr",
     "output_type": "stream",
     "text": [
      "Some weights of the model checkpoint at hfl/chinese-roberta-wwm-ext-large were not used when initializing BertForQuestionAnswering: ['cls.predictions.bias', 'cls.predictions.transform.dense.weight', 'cls.predictions.transform.dense.bias', 'cls.predictions.transform.LayerNorm.weight', 'cls.predictions.transform.LayerNorm.bias', 'cls.predictions.decoder.weight', 'cls.seq_relationship.weight', 'cls.seq_relationship.bias']\n",
      "- This IS expected if you are initializing BertForQuestionAnswering from the checkpoint of a model trained on another task or with another architecture (e.g. initializing a BertForSequenceClassification model from a BertForPreTraining model).\n",
      "- This IS NOT expected if you are initializing BertForQuestionAnswering from the checkpoint of a model that you expect to be exactly identical (initializing a BertForSequenceClassification model from a BertForSequenceClassification model).\n",
      "Some weights of BertForQuestionAnswering were not initialized from the model checkpoint at hfl/chinese-roberta-wwm-ext-large and are newly initialized: ['qa_outputs.weight', 'qa_outputs.bias']\n",
      "You should probably TRAIN this model on a down-stream task to be able to use it for predictions and inference.\n"
     ]
    }
   ],
   "source": [
    "# model = BertForQuestionAnswering.from_pretrained(\"bert-base-chinese\").to(device)\n",
    "# tokenizer = BertTokenizerFast.from_pretrained(\"bert-base-chinese\")\n",
    "\n",
    "# model = BertForQuestionAnswering.from_pretrained(\"hfl/chinese-roberta-wwm-ext\").to(device)\n",
    "# tokenizer = BertTokenizerFast.from_pretrained(\"hfl/chinese-roberta-wwm-ext\")\n",
    "\n",
    "model = BertForQuestionAnswering.from_pretrained(\"hfl/chinese-roberta-wwm-ext-large\").to(device)\n",
    "tokenizer = BertTokenizerFast.from_pretrained(\"hfl/chinese-roberta-wwm-ext-large\")\n",
    "\n",
    "# You can safely ignore the warning message (it pops up because new prediction heads for QA are initialized randomly)"
   ]
  },
  {
   "cell_type": "markdown",
   "metadata": {
    "id": "3Td-GTmk5OW4"
   },
   "source": [
    "## Read Data\n",
    "\n",
    "- Training set: 31690 QA pairs\n",
    "- Dev set: 4131  QA pairs\n",
    "- Test set: 4957  QA pairs\n",
    "\n",
    "- {train/dev/test}_questions:\t\n",
    "  - List of dicts with the following keys:\n",
    "   - id (int)\n",
    "   - paragraph_id (int)\n",
    "   - question_text (string)\n",
    "   - answer_text (string)\n",
    "   - answer_start (int)\n",
    "   - answer_end (int)\n",
    "- {train/dev/test}_paragraphs: \n",
    "  - List of strings\n",
    "  - paragraph_ids in questions correspond to indexs in paragraphs\n",
    "  - A paragraph may be used by several questions "
   ]
  },
  {
   "cell_type": "code",
   "execution_count": 5,
   "metadata": {
    "id": "NvX7hlepogvu"
   },
   "outputs": [],
   "source": [
    "def read_data(file):\n",
    "    with open(file, 'r', encoding=\"utf-8\") as reader:\n",
    "        data = json.load(reader)\n",
    "    return data[\"questions\"], data[\"paragraphs\"]\n",
    "\n",
    "train_questions, train_paragraphs = read_data(\"hw7_train.json\")\n",
    "dev_questions, dev_paragraphs = read_data(\"hw7_dev.json\")\n",
    "test_questions, test_paragraphs = read_data(\"hw7_test.json\")"
   ]
  },
  {
   "cell_type": "markdown",
   "metadata": {
    "id": "Fm0rpTHq0e4N"
   },
   "source": [
    "## Tokenize Data"
   ]
  },
  {
   "cell_type": "code",
   "execution_count": 6,
   "metadata": {
    "id": "rTZ6B70Hoxie"
   },
   "outputs": [],
   "source": [
    "# Tokenize questions and paragraphs separately\n",
    "# 「add_special_tokens」 is set to False since special tokens will be added when tokenized questions and paragraphs are combined in datset __getitem__ \n",
    "\n",
    "train_questions_tokenized = tokenizer([train_question[\"question_text\"] for train_question in train_questions], add_special_tokens=False)\n",
    "dev_questions_tokenized = tokenizer([dev_question[\"question_text\"] for dev_question in dev_questions], add_special_tokens=False)\n",
    "test_questions_tokenized = tokenizer([test_question[\"question_text\"] for test_question in test_questions], add_special_tokens=False) \n",
    "\n",
    "train_paragraphs_tokenized = tokenizer(train_paragraphs, add_special_tokens=False)\n",
    "dev_paragraphs_tokenized = tokenizer(dev_paragraphs, add_special_tokens=False)\n",
    "test_paragraphs_tokenized = tokenizer(test_paragraphs, add_special_tokens=False)\n",
    "\n",
    "# You can safely ignore the warning message as tokenized sequences will be futher processed in datset __getitem__ before passing to model"
   ]
  },
  {
   "cell_type": "markdown",
   "metadata": {
    "id": "Ws8c8_4d5UCI"
   },
   "source": [
    "## Dataset and Dataloader"
   ]
  },
  {
   "cell_type": "code",
   "execution_count": 7,
   "metadata": {
    "id": "Xjooag-Swnuh"
   },
   "outputs": [],
   "source": [
    "class QA_Dataset(Dataset):\n",
    "    def __init__(self, split, questions, tokenized_questions, tokenized_paragraphs):\n",
    "        self.split = split\n",
    "        self.questions = questions\n",
    "        self.tokenized_questions = tokenized_questions\n",
    "        self.tokenized_paragraphs = tokenized_paragraphs\n",
    "        self.max_question_len = 40\n",
    "        self.max_paragraph_len = 150\n",
    "        \n",
    "        ##### TODO: Change value of doc_stride #####\n",
    "        self.doc_stride = 40\n",
    "\n",
    "        # Input sequence length = [CLS] + question + [SEP] + paragraph + [SEP]\n",
    "        self.max_seq_len = 1 + self.max_question_len + 1 + self.max_paragraph_len + 1\n",
    "\n",
    "    def __len__(self):\n",
    "        return len(self.questions)\n",
    "\n",
    "    def __getitem__(self, idx):\n",
    "        question = self.questions[idx]\n",
    "        tokenized_question = self.tokenized_questions[idx]\n",
    "        tokenized_paragraph = self.tokenized_paragraphs[question[\"paragraph_id\"]]\n",
    "\n",
    "        ##### TODO: Preprocessing #####\n",
    "        # Hint: How to prevent model from learning something it should not learn\n",
    "\n",
    "        if self.split == \"train\":\n",
    "            # Convert answer's start/end positions in paragraph_text to start/end positions in tokenized_paragraph  \n",
    "            answer_start_token = tokenized_paragraph.char_to_token(question[\"answer_start\"])\n",
    "            answer_end_token = tokenized_paragraph.char_to_token(question[\"answer_end\"])\n",
    "\n",
    "            # A single window is obtained by slicing the portion of paragraph containing the answer\n",
    "            mid = (answer_start_token + answer_end_token) // 2\n",
    "            \n",
    "            # ref: https://zhuanlan.zhihu.com/p/493772106\n",
    "            ansLen = answer_end_token - answer_start_token + 1\n",
    "            # temp = random.randint(0, self.max_paragraph_len - ansLen)\n",
    "            \n",
    "            if ansLen // 2 < self.max_paragraph_len - ansLen // 2:\n",
    "                temp = random.randint(0, self.max_paragraph_len - ansLen)\n",
    "            else:\n",
    "                temp = self.max_paragraph_len // 2\n",
    "                \n",
    "            paragraph_start = max(0, min(mid - temp, len(tokenized_paragraph) - self.max_paragraph_len))\n",
    "            \n",
    "            # paragraph_start = max(0, min(mid - self.max_paragraph_len // 2, len(tokenized_paragraph) - self.max_paragraph_len))\n",
    "            paragraph_end = paragraph_start + self.max_paragraph_len\n",
    "            \n",
    "            \n",
    "            # Slice question/paragraph and add special tokens (101: CLS, 102: SEP)\n",
    "            input_ids_question = [101] + tokenized_question.ids[:self.max_question_len] + [102] \n",
    "            input_ids_paragraph = tokenized_paragraph.ids[paragraph_start : paragraph_end] + [102]\n",
    "            \n",
    "            # Convert answer's start/end positions in tokenized_paragraph to start/end positions in the window  \n",
    "            answer_start_token += len(input_ids_question) - paragraph_start\n",
    "            answer_end_token += len(input_ids_question) - paragraph_start\n",
    "            \n",
    "            # Pad sequence and obtain inputs to model \n",
    "            input_ids, token_type_ids, attention_mask = self.padding(input_ids_question, input_ids_paragraph)\n",
    "            return torch.tensor(input_ids), torch.tensor(token_type_ids), torch.tensor(attention_mask), answer_start_token, answer_end_token\n",
    "\n",
    "        # Validation/Testing\n",
    "        else:\n",
    "            input_ids_list, token_type_ids_list, attention_mask_list = [], [], []\n",
    "            \n",
    "            # Paragraph is split into several windows, each with start positions separated by step \"doc_stride\"\n",
    "            for i in range(0, len(tokenized_paragraph), self.doc_stride):\n",
    "                \n",
    "                # Slice question/paragraph and add special tokens (101: CLS, 102: SEP)\n",
    "                input_ids_question = [101] + tokenized_question.ids[:self.max_question_len] + [102]\n",
    "                input_ids_paragraph = tokenized_paragraph.ids[i : i + self.max_paragraph_len] + [102]\n",
    "                \n",
    "                # Pad sequence and obtain inputs to model\n",
    "                input_ids, token_type_ids, attention_mask = self.padding(input_ids_question, input_ids_paragraph)\n",
    "                \n",
    "                input_ids_list.append(input_ids)\n",
    "                token_type_ids_list.append(token_type_ids)\n",
    "                attention_mask_list.append(attention_mask)\n",
    "            \n",
    "            return torch.tensor(input_ids_list), torch.tensor(token_type_ids_list), torch.tensor(attention_mask_list)\n",
    "\n",
    "    def padding(self, input_ids_question, input_ids_paragraph):\n",
    "        # Pad zeros if sequence length is shorter than max_seq_len\n",
    "        padding_len = self.max_seq_len - len(input_ids_question) - len(input_ids_paragraph)\n",
    "        # Indices of input sequence tokens in the vocabulary\n",
    "        input_ids = input_ids_question + input_ids_paragraph + [0] * padding_len\n",
    "        # Segment token indices to indicate first and second portions of the inputs. Indices are selected in [0, 1]\n",
    "        token_type_ids = [0] * len(input_ids_question) + [1] * len(input_ids_paragraph) + [0] * padding_len\n",
    "        # Mask to avoid performing attention on padding token indices. Mask values selected in [0, 1]\n",
    "        attention_mask = [1] * (len(input_ids_question) + len(input_ids_paragraph)) + [0] * padding_len\n",
    "        \n",
    "        return input_ids, token_type_ids, attention_mask\n",
    "\n",
    "train_set = QA_Dataset(\"train\", train_questions, train_questions_tokenized, train_paragraphs_tokenized)\n",
    "dev_set = QA_Dataset(\"dev\", dev_questions, dev_questions_tokenized, dev_paragraphs_tokenized)\n",
    "test_set = QA_Dataset(\"test\", test_questions, test_questions_tokenized, test_paragraphs_tokenized)\n",
    "\n",
    "train_batch_size = 4 #32\n",
    "\n",
    "# Note: Do NOT change batch size of dev_loader / test_loader !\n",
    "# Although batch size=1, it is actually a batch consisting of several windows from the same QA pair\n",
    "train_loader = DataLoader(train_set, batch_size=train_batch_size, shuffle=True, pin_memory=True)\n",
    "dev_loader = DataLoader(dev_set, batch_size=1, shuffle=False, pin_memory=True)\n",
    "test_loader = DataLoader(test_set, batch_size=1, shuffle=False, pin_memory=True)"
   ]
  },
  {
   "cell_type": "markdown",
   "metadata": {
    "id": "5_H1kqhR8CdM"
   },
   "source": [
    "## Function for Evaluation"
   ]
  },
  {
   "cell_type": "code",
   "execution_count": 8,
   "metadata": {
    "id": "SqeA3PLPxOHu"
   },
   "outputs": [],
   "source": [
    "def evaluate(data, output):\n",
    "    ##### TODO: Postprocessing #####\n",
    "    # There is a bug and room for improvement in postprocessing \n",
    "    # Hint: Open your prediction file to see what is wrong \n",
    "    \n",
    "    answer = ''\n",
    "    max_prob = float('-inf')\n",
    "    num_of_windows = data[0].shape[1]\n",
    "    \n",
    "    for k in range(num_of_windows):\n",
    "        # Obtain answer by choosing the most probable start position / end position\n",
    "        start_prob, start_index = torch.max(output.start_logits[k], dim=0)\n",
    "        end_prob, end_index = torch.max(output.end_logits[k], dim=0)\n",
    "        \n",
    "        # Probability of answer is calculated as sum of start_prob and end_prob\n",
    "        prob = start_prob + end_prob\n",
    "        if start_index > end_index:\n",
    "            prob = 0\n",
    "        \n",
    "        # Replace answer if calculated probability is larger than previous windows\n",
    "        if prob > max_prob:\n",
    "            max_prob = prob\n",
    "            # Convert tokens to chars (e.g. [1920, 7032] --> \"大 金\")\n",
    "            answer = tokenizer.decode(data[0][0][k][start_index : end_index + 1])\n",
    "    \n",
    "    # Remove spaces in answer (e.g. \"大 金\" --> \"大金\")\n",
    "    return answer.replace(' ','')"
   ]
  },
  {
   "cell_type": "markdown",
   "metadata": {
    "id": "rzHQit6eMnKG"
   },
   "source": [
    "## Training"
   ]
  },
  {
   "cell_type": "code",
   "execution_count": 9,
   "metadata": {
    "id": "3Q-B6ka7xoCM"
   },
   "outputs": [
    {
     "name": "stdout",
     "output_type": "stream",
     "text": [
      "Start Training ...\n"
     ]
    },
    {
     "data": {
      "application/vnd.jupyter.widget-view+json": {
       "model_id": "c3027207c95e457a974d5acbb0e12bea",
       "version_major": 2,
       "version_minor": 0
      },
      "text/plain": [
       "  0%|          | 0/7923 [00:00<?, ?it/s]"
      ]
     },
     "metadata": {},
     "output_type": "display_data"
    },
    {
     "name": "stderr",
     "output_type": "stream",
     "text": [
      "/auto/master10/ivy8792/.local/share/virtualenvs/ivy8792-NO-Df_OY/lib/python3.6/site-packages/torch/optim/lr_scheduler.py:134: UserWarning: Detected call of `lr_scheduler.step()` before `optimizer.step()`. In PyTorch 1.1.0 and later, you should call them in the opposite order: `optimizer.step()` before `lr_scheduler.step()`.  Failure to do this will result in PyTorch skipping the first value of the learning rate schedule. See more details at https://pytorch.org/docs/stable/optim.html#how-to-adjust-learning-rate\n",
      "  \"https://pytorch.org/docs/stable/optim.html#how-to-adjust-learning-rate\", UserWarning)\n"
     ]
    },
    {
     "name": "stdout",
     "output_type": "stream",
     "text": [
      "step: 100, learning_rate: 1.98e-06\n",
      "Epoch 1 | Step 100 | loss = 5.171, acc = 0.000\n",
      "step: 200, learning_rate: 3.980000000000001e-06\n",
      "Epoch 1 | Step 200 | loss = 4.428, acc = 0.012\n",
      "step: 300, learning_rate: 5.98e-06\n",
      "Epoch 1 | Step 300 | loss = 3.044, acc = 0.135\n",
      "step: 400, learning_rate: 7.980000000000002e-06\n",
      "Epoch 1 | Step 400 | loss = 1.329, acc = 0.522\n",
      "step: 500, learning_rate: 9.980000000000001e-06\n",
      "Epoch 1 | Step 500 | loss = 1.034, acc = 0.607\n",
      "step: 600, learning_rate: 9.935488075068423e-06\n",
      "Epoch 1 | Step 600 | loss = 0.939, acc = 0.625\n",
      "step: 700, learning_rate: 9.870324514531475e-06\n",
      "Epoch 1 | Step 700 | loss = 0.824, acc = 0.642\n",
      "step: 800, learning_rate: 9.805160953994528e-06\n",
      "Epoch 1 | Step 800 | loss = 0.874, acc = 0.655\n",
      "step: 900, learning_rate: 9.73999739345758e-06\n",
      "Epoch 1 | Step 900 | loss = 0.866, acc = 0.657\n",
      "step: 1000, learning_rate: 9.67483383292063e-06\n",
      "Epoch 1 | Step 1000 | loss = 0.775, acc = 0.692\n",
      "step: 1100, learning_rate: 9.609670272383685e-06\n",
      "Epoch 1 | Step 1100 | loss = 0.791, acc = 0.692\n",
      "step: 1200, learning_rate: 9.544506711846736e-06\n",
      "Epoch 1 | Step 1200 | loss = 0.765, acc = 0.692\n",
      "step: 1300, learning_rate: 9.479343151309788e-06\n",
      "Epoch 1 | Step 1300 | loss = 0.807, acc = 0.680\n",
      "step: 1400, learning_rate: 9.41417959077284e-06\n",
      "Epoch 1 | Step 1400 | loss = 0.709, acc = 0.697\n",
      "step: 1500, learning_rate: 9.349016030235892e-06\n",
      "Epoch 1 | Step 1500 | loss = 0.646, acc = 0.735\n",
      "step: 1600, learning_rate: 9.283852469698946e-06\n",
      "Epoch 1 | Step 1600 | loss = 0.730, acc = 0.712\n",
      "step: 1700, learning_rate: 9.218688909161997e-06\n",
      "Epoch 1 | Step 1700 | loss = 0.734, acc = 0.680\n",
      "step: 1800, learning_rate: 9.153525348625049e-06\n",
      "Epoch 1 | Step 1800 | loss = 0.727, acc = 0.688\n",
      "step: 1900, learning_rate: 9.088361788088102e-06\n",
      "Epoch 1 | Step 1900 | loss = 0.720, acc = 0.722\n",
      "step: 2000, learning_rate: 9.023198227551154e-06\n",
      "Epoch 1 | Step 2000 | loss = 0.622, acc = 0.738\n",
      "step: 2100, learning_rate: 8.958034667014207e-06\n",
      "Epoch 1 | Step 2100 | loss = 0.749, acc = 0.715\n",
      "step: 2200, learning_rate: 8.892871106477259e-06\n",
      "Epoch 1 | Step 2200 | loss = 0.558, acc = 0.752\n",
      "step: 2300, learning_rate: 8.82770754594031e-06\n",
      "Epoch 1 | Step 2300 | loss = 0.742, acc = 0.732\n",
      "step: 2400, learning_rate: 8.762543985403364e-06\n",
      "Epoch 1 | Step 2400 | loss = 0.681, acc = 0.710\n",
      "step: 2500, learning_rate: 8.697380424866415e-06\n",
      "Epoch 1 | Step 2500 | loss = 0.642, acc = 0.748\n",
      "step: 2600, learning_rate: 8.632216864329467e-06\n",
      "Epoch 1 | Step 2600 | loss = 0.604, acc = 0.752\n",
      "step: 2700, learning_rate: 8.56705330379252e-06\n",
      "Epoch 1 | Step 2700 | loss = 0.610, acc = 0.725\n",
      "step: 2800, learning_rate: 8.501889743255572e-06\n",
      "Epoch 1 | Step 2800 | loss = 0.710, acc = 0.735\n",
      "step: 2900, learning_rate: 8.436726182718625e-06\n",
      "Epoch 1 | Step 2900 | loss = 0.600, acc = 0.767\n",
      "step: 3000, learning_rate: 8.371562622181677e-06\n",
      "Epoch 1 | Step 3000 | loss = 0.677, acc = 0.727\n",
      "step: 3100, learning_rate: 8.306399061644728e-06\n",
      "Epoch 1 | Step 3100 | loss = 0.584, acc = 0.760\n",
      "step: 3200, learning_rate: 8.241235501107782e-06\n",
      "Epoch 1 | Step 3200 | loss = 0.607, acc = 0.760\n",
      "step: 3300, learning_rate: 8.176071940570833e-06\n",
      "Epoch 1 | Step 3300 | loss = 0.580, acc = 0.767\n",
      "step: 3400, learning_rate: 8.110908380033886e-06\n",
      "Epoch 1 | Step 3400 | loss = 0.537, acc = 0.780\n",
      "step: 3500, learning_rate: 8.045744819496938e-06\n",
      "Epoch 1 | Step 3500 | loss = 0.556, acc = 0.772\n",
      "step: 3600, learning_rate: 7.98058125895999e-06\n",
      "Epoch 1 | Step 3600 | loss = 0.575, acc = 0.782\n",
      "step: 3700, learning_rate: 7.915417698423043e-06\n",
      "Epoch 1 | Step 3700 | loss = 0.681, acc = 0.695\n",
      "step: 3800, learning_rate: 7.850254137886096e-06\n",
      "Epoch 1 | Step 3800 | loss = 0.576, acc = 0.780\n",
      "step: 3900, learning_rate: 7.785090577349146e-06\n",
      "Epoch 1 | Step 3900 | loss = 0.519, acc = 0.795\n",
      "step: 4000, learning_rate: 7.7199270168122e-06\n",
      "Epoch 1 | Step 4000 | loss = 0.624, acc = 0.735\n",
      "step: 4100, learning_rate: 7.654763456275251e-06\n",
      "Epoch 1 | Step 4100 | loss = 0.553, acc = 0.748\n",
      "step: 4200, learning_rate: 7.589599895738303e-06\n",
      "Epoch 1 | Step 4200 | loss = 0.514, acc = 0.800\n",
      "step: 4300, learning_rate: 7.524436335201356e-06\n",
      "Epoch 1 | Step 4300 | loss = 0.597, acc = 0.765\n",
      "step: 4400, learning_rate: 7.459272774664408e-06\n",
      "Epoch 1 | Step 4400 | loss = 0.484, acc = 0.767\n",
      "step: 4500, learning_rate: 7.3941092141274605e-06\n",
      "Epoch 1 | Step 4500 | loss = 0.502, acc = 0.772\n",
      "step: 4600, learning_rate: 7.328945653590512e-06\n",
      "Epoch 1 | Step 4600 | loss = 0.584, acc = 0.765\n",
      "step: 4700, learning_rate: 7.2637820930535655e-06\n",
      "Epoch 1 | Step 4700 | loss = 0.546, acc = 0.777\n",
      "step: 4800, learning_rate: 7.198618532516617e-06\n",
      "Epoch 1 | Step 4800 | loss = 0.485, acc = 0.815\n",
      "step: 4900, learning_rate: 7.13345497197967e-06\n",
      "Epoch 1 | Step 4900 | loss = 0.495, acc = 0.800\n",
      "step: 5000, learning_rate: 7.068291411442721e-06\n",
      "Epoch 1 | Step 5000 | loss = 0.518, acc = 0.790\n",
      "step: 5100, learning_rate: 7.003127850905775e-06\n",
      "Epoch 1 | Step 5100 | loss = 0.616, acc = 0.780\n",
      "step: 5200, learning_rate: 6.937964290368826e-06\n",
      "Epoch 1 | Step 5200 | loss = 0.515, acc = 0.755\n",
      "step: 5300, learning_rate: 6.872800729831879e-06\n",
      "Epoch 1 | Step 5300 | loss = 0.534, acc = 0.772\n",
      "step: 5400, learning_rate: 6.80763716929493e-06\n",
      "Epoch 1 | Step 5400 | loss = 0.526, acc = 0.777\n",
      "step: 5500, learning_rate: 6.742473608757984e-06\n",
      "Epoch 1 | Step 5500 | loss = 0.590, acc = 0.782\n",
      "step: 5600, learning_rate: 6.677310048221035e-06\n",
      "Epoch 1 | Step 5600 | loss = 0.523, acc = 0.770\n",
      "step: 5700, learning_rate: 6.612146487684088e-06\n",
      "Epoch 1 | Step 5700 | loss = 0.462, acc = 0.808\n",
      "step: 5800, learning_rate: 6.5469829271471395e-06\n",
      "Epoch 1 | Step 5800 | loss = 0.580, acc = 0.775\n",
      "step: 5900, learning_rate: 6.481819366610193e-06\n",
      "Epoch 1 | Step 5900 | loss = 0.521, acc = 0.805\n",
      "step: 6000, learning_rate: 6.4166558060732445e-06\n",
      "Epoch 1 | Step 6000 | loss = 0.559, acc = 0.757\n",
      "step: 6100, learning_rate: 6.351492245536297e-06\n",
      "Epoch 1 | Step 6100 | loss = 0.488, acc = 0.815\n",
      "step: 6200, learning_rate: 6.286328684999349e-06\n",
      "Epoch 1 | Step 6200 | loss = 0.512, acc = 0.792\n",
      "step: 6300, learning_rate: 6.221165124462402e-06\n",
      "Epoch 1 | Step 6300 | loss = 0.493, acc = 0.820\n",
      "step: 6400, learning_rate: 6.156001563925454e-06\n",
      "Epoch 1 | Step 6400 | loss = 0.480, acc = 0.800\n",
      "step: 6500, learning_rate: 6.090838003388506e-06\n",
      "Epoch 1 | Step 6500 | loss = 0.576, acc = 0.765\n",
      "step: 6600, learning_rate: 6.025674442851558e-06\n",
      "Epoch 1 | Step 6600 | loss = 0.562, acc = 0.792\n",
      "step: 6700, learning_rate: 5.9605108823146094e-06\n",
      "Epoch 1 | Step 6700 | loss = 0.480, acc = 0.808\n",
      "step: 6800, learning_rate: 5.895347321777663e-06\n",
      "Epoch 1 | Step 6800 | loss = 0.383, acc = 0.815\n",
      "step: 6900, learning_rate: 5.8301837612407144e-06\n",
      "Epoch 1 | Step 6900 | loss = 0.524, acc = 0.790\n",
      "step: 7000, learning_rate: 5.765020200703767e-06\n",
      "Epoch 1 | Step 7000 | loss = 0.622, acc = 0.750\n",
      "step: 7100, learning_rate: 5.699856640166819e-06\n",
      "Epoch 1 | Step 7100 | loss = 0.431, acc = 0.815\n",
      "step: 7200, learning_rate: 5.634693079629872e-06\n",
      "Epoch 1 | Step 7200 | loss = 0.471, acc = 0.787\n",
      "step: 7300, learning_rate: 5.5695295190929236e-06\n",
      "Epoch 1 | Step 7300 | loss = 0.431, acc = 0.797\n",
      "step: 7400, learning_rate: 5.504365958555976e-06\n",
      "Epoch 1 | Step 7400 | loss = 0.455, acc = 0.797\n",
      "step: 7500, learning_rate: 5.439202398019028e-06\n",
      "Epoch 1 | Step 7500 | loss = 0.496, acc = 0.810\n",
      "step: 7600, learning_rate: 5.374038837482081e-06\n",
      "Epoch 1 | Step 7600 | loss = 0.483, acc = 0.780\n",
      "step: 7700, learning_rate: 5.308875276945133e-06\n",
      "Epoch 1 | Step 7700 | loss = 0.401, acc = 0.835\n",
      "step: 7800, learning_rate: 5.243711716408185e-06\n",
      "Epoch 1 | Step 7800 | loss = 0.415, acc = 0.810\n",
      "step: 7900, learning_rate: 5.178548155871237e-06\n",
      "Epoch 1 | Step 7900 | loss = 0.458, acc = 0.805\n",
      "Evaluating Dev Set ...\n"
     ]
    },
    {
     "data": {
      "application/vnd.jupyter.widget-view+json": {
       "model_id": "0ddb60447c13401fb4da18c76e42f2a6",
       "version_major": 2,
       "version_minor": 0
      },
      "text/plain": [
       "  0%|          | 0/4131 [00:00<?, ?it/s]"
      ]
     },
     "metadata": {},
     "output_type": "display_data"
    },
    {
     "name": "stdout",
     "output_type": "stream",
     "text": [
      "Validation | Epoch 1 | acc = 0.779\n"
     ]
    },
    {
     "data": {
      "application/vnd.jupyter.widget-view+json": {
       "model_id": "44dc4b6c3e7a44d4bd0646315f24578e",
       "version_major": 2,
       "version_minor": 0
      },
      "text/plain": [
       "  0%|          | 0/7923 [00:00<?, ?it/s]"
      ]
     },
     "metadata": {},
     "output_type": "display_data"
    },
    {
     "name": "stdout",
     "output_type": "stream",
     "text": [
      "step: 100, learning_rate: 5.098396976410791e-06\n",
      "Epoch 2 | Step 100 | loss = 0.303, acc = 0.835\n",
      "step: 200, learning_rate: 5.033233415873844e-06\n",
      "Epoch 2 | Step 200 | loss = 0.236, acc = 0.905\n",
      "step: 300, learning_rate: 4.968069855336896e-06\n",
      "Epoch 2 | Step 300 | loss = 0.328, acc = 0.857\n",
      "step: 400, learning_rate: 4.902906294799948e-06\n",
      "Epoch 2 | Step 400 | loss = 0.337, acc = 0.847\n",
      "step: 500, learning_rate: 4.837742734263001e-06\n",
      "Epoch 2 | Step 500 | loss = 0.253, acc = 0.875\n",
      "step: 600, learning_rate: 4.772579173726053e-06\n",
      "Epoch 2 | Step 600 | loss = 0.318, acc = 0.852\n",
      "step: 700, learning_rate: 4.707415613189105e-06\n",
      "Epoch 2 | Step 700 | loss = 0.297, acc = 0.870\n",
      "step: 800, learning_rate: 4.6422520526521575e-06\n",
      "Epoch 2 | Step 800 | loss = 0.217, acc = 0.892\n",
      "step: 900, learning_rate: 4.57708849211521e-06\n",
      "Epoch 2 | Step 900 | loss = 0.326, acc = 0.875\n",
      "step: 1000, learning_rate: 4.5119249315782625e-06\n",
      "Epoch 2 | Step 1000 | loss = 0.306, acc = 0.842\n",
      "step: 1100, learning_rate: 4.446761371041314e-06\n",
      "Epoch 2 | Step 1100 | loss = 0.205, acc = 0.890\n",
      "step: 1200, learning_rate: 4.381597810504366e-06\n",
      "Epoch 2 | Step 1200 | loss = 0.348, acc = 0.835\n",
      "step: 1300, learning_rate: 4.316434249967418e-06\n",
      "Epoch 2 | Step 1300 | loss = 0.221, acc = 0.882\n",
      "step: 1400, learning_rate: 4.251270689430471e-06\n",
      "Epoch 2 | Step 1400 | loss = 0.295, acc = 0.882\n",
      "step: 1500, learning_rate: 4.186107128893523e-06\n",
      "Epoch 2 | Step 1500 | loss = 0.210, acc = 0.892\n",
      "step: 1600, learning_rate: 4.120943568356575e-06\n",
      "Epoch 2 | Step 1600 | loss = 0.311, acc = 0.852\n",
      "step: 1700, learning_rate: 4.055780007819627e-06\n",
      "Epoch 2 | Step 1700 | loss = 0.251, acc = 0.892\n",
      "step: 1800, learning_rate: 3.99061644728268e-06\n",
      "Epoch 2 | Step 1800 | loss = 0.234, acc = 0.895\n",
      "step: 1900, learning_rate: 3.925452886745732e-06\n",
      "Epoch 2 | Step 1900 | loss = 0.318, acc = 0.830\n",
      "step: 2000, learning_rate: 3.860289326208784e-06\n",
      "Epoch 2 | Step 2000 | loss = 0.275, acc = 0.887\n",
      "step: 2100, learning_rate: 3.7951257656718365e-06\n",
      "Epoch 2 | Step 2100 | loss = 0.216, acc = 0.895\n",
      "step: 2200, learning_rate: 3.729962205134889e-06\n",
      "Epoch 2 | Step 2200 | loss = 0.281, acc = 0.850\n",
      "step: 2300, learning_rate: 3.664798644597941e-06\n",
      "Epoch 2 | Step 2300 | loss = 0.304, acc = 0.868\n",
      "step: 2400, learning_rate: 3.599635084060993e-06\n",
      "Epoch 2 | Step 2400 | loss = 0.227, acc = 0.885\n",
      "step: 2500, learning_rate: 3.5344715235240457e-06\n",
      "Epoch 2 | Step 2500 | loss = 0.237, acc = 0.890\n",
      "step: 2600, learning_rate: 3.4693079629870977e-06\n",
      "Epoch 2 | Step 2600 | loss = 0.281, acc = 0.870\n",
      "step: 2700, learning_rate: 3.4041444024501502e-06\n",
      "Epoch 2 | Step 2700 | loss = 0.273, acc = 0.890\n",
      "step: 2800, learning_rate: 3.3389808419132023e-06\n",
      "Epoch 2 | Step 2800 | loss = 0.250, acc = 0.902\n",
      "step: 2900, learning_rate: 3.273817281376255e-06\n",
      "Epoch 2 | Step 2900 | loss = 0.255, acc = 0.882\n",
      "step: 3000, learning_rate: 3.208653720839307e-06\n",
      "Epoch 2 | Step 3000 | loss = 0.254, acc = 0.875\n",
      "step: 3100, learning_rate: 3.1434901603023594e-06\n",
      "Epoch 2 | Step 3100 | loss = 0.262, acc = 0.865\n",
      "step: 3200, learning_rate: 3.0783265997654114e-06\n",
      "Epoch 2 | Step 3200 | loss = 0.261, acc = 0.895\n",
      "step: 3300, learning_rate: 3.013163039228464e-06\n",
      "Epoch 2 | Step 3300 | loss = 0.263, acc = 0.865\n",
      "step: 3400, learning_rate: 2.947999478691516e-06\n",
      "Epoch 2 | Step 3400 | loss = 0.249, acc = 0.860\n",
      "step: 3500, learning_rate: 2.8828359181545685e-06\n",
      "Epoch 2 | Step 3500 | loss = 0.225, acc = 0.885\n",
      "step: 3600, learning_rate: 2.8176723576176206e-06\n",
      "Epoch 2 | Step 3600 | loss = 0.235, acc = 0.900\n",
      "step: 3700, learning_rate: 2.752508797080673e-06\n",
      "Epoch 2 | Step 3700 | loss = 0.195, acc = 0.902\n",
      "step: 3800, learning_rate: 2.6873452365437247e-06\n",
      "Epoch 2 | Step 3800 | loss = 0.374, acc = 0.852\n",
      "step: 3900, learning_rate: 2.6221816760067768e-06\n",
      "Epoch 2 | Step 3900 | loss = 0.204, acc = 0.900\n",
      "step: 4000, learning_rate: 2.5570181154698293e-06\n",
      "Epoch 2 | Step 4000 | loss = 0.243, acc = 0.897\n",
      "step: 4100, learning_rate: 2.4918545549328818e-06\n",
      "Epoch 2 | Step 4100 | loss = 0.211, acc = 0.887\n",
      "step: 4200, learning_rate: 2.4266909943959343e-06\n",
      "Epoch 2 | Step 4200 | loss = 0.275, acc = 0.895\n",
      "step: 4300, learning_rate: 2.3615274338589863e-06\n",
      "Epoch 2 | Step 4300 | loss = 0.248, acc = 0.887\n",
      "step: 4400, learning_rate: 2.296363873322039e-06\n",
      "Epoch 2 | Step 4400 | loss = 0.263, acc = 0.870\n",
      "step: 4500, learning_rate: 2.2312003127850905e-06\n",
      "Epoch 2 | Step 4500 | loss = 0.245, acc = 0.890\n",
      "step: 4600, learning_rate: 2.166036752248143e-06\n",
      "Epoch 2 | Step 4600 | loss = 0.293, acc = 0.897\n",
      "step: 4700, learning_rate: 2.100873191711195e-06\n",
      "Epoch 2 | Step 4700 | loss = 0.272, acc = 0.870\n",
      "step: 4800, learning_rate: 2.0357096311742475e-06\n",
      "Epoch 2 | Step 4800 | loss = 0.202, acc = 0.900\n",
      "step: 4900, learning_rate: 1.9705460706372996e-06\n",
      "Epoch 2 | Step 4900 | loss = 0.242, acc = 0.880\n",
      "step: 5000, learning_rate: 1.905382510100352e-06\n",
      "Epoch 2 | Step 5000 | loss = 0.262, acc = 0.847\n",
      "step: 5100, learning_rate: 1.8402189495634044e-06\n",
      "Epoch 2 | Step 5100 | loss = 0.293, acc = 0.882\n",
      "step: 5200, learning_rate: 1.7750553890264567e-06\n",
      "Epoch 2 | Step 5200 | loss = 0.238, acc = 0.892\n",
      "step: 5300, learning_rate: 1.709891828489509e-06\n",
      "Epoch 2 | Step 5300 | loss = 0.268, acc = 0.882\n",
      "step: 5400, learning_rate: 1.6447282679525612e-06\n",
      "Epoch 2 | Step 5400 | loss = 0.261, acc = 0.887\n",
      "step: 5500, learning_rate: 1.5795647074156133e-06\n",
      "Epoch 2 | Step 5500 | loss = 0.203, acc = 0.885\n",
      "step: 5600, learning_rate: 1.5144011468786656e-06\n",
      "Epoch 2 | Step 5600 | loss = 0.212, acc = 0.887\n",
      "step: 5700, learning_rate: 1.4492375863417179e-06\n",
      "Epoch 2 | Step 5700 | loss = 0.260, acc = 0.907\n",
      "step: 5800, learning_rate: 1.38407402580477e-06\n",
      "Epoch 2 | Step 5800 | loss = 0.231, acc = 0.882\n",
      "step: 5900, learning_rate: 1.3189104652678222e-06\n",
      "Epoch 2 | Step 5900 | loss = 0.282, acc = 0.865\n",
      "step: 6000, learning_rate: 1.2537469047308745e-06\n",
      "Epoch 2 | Step 6000 | loss = 0.250, acc = 0.868\n",
      "step: 6100, learning_rate: 1.1885833441939268e-06\n",
      "Epoch 2 | Step 6100 | loss = 0.235, acc = 0.897\n",
      "step: 6200, learning_rate: 1.123419783656979e-06\n",
      "Epoch 2 | Step 6200 | loss = 0.262, acc = 0.873\n",
      "step: 6300, learning_rate: 1.0582562231200314e-06\n",
      "Epoch 2 | Step 6300 | loss = 0.257, acc = 0.885\n",
      "step: 6400, learning_rate: 9.930926625830836e-07\n",
      "Epoch 2 | Step 6400 | loss = 0.282, acc = 0.868\n",
      "step: 6500, learning_rate: 9.279291020461359e-07\n",
      "Epoch 2 | Step 6500 | loss = 0.252, acc = 0.880\n",
      "step: 6600, learning_rate: 8.627655415091882e-07\n",
      "Epoch 2 | Step 6600 | loss = 0.206, acc = 0.912\n",
      "step: 6700, learning_rate: 7.976019809722405e-07\n",
      "Epoch 2 | Step 6700 | loss = 0.212, acc = 0.897\n",
      "step: 6800, learning_rate: 7.324384204352926e-07\n",
      "Epoch 2 | Step 6800 | loss = 0.313, acc = 0.880\n",
      "step: 6900, learning_rate: 6.672748598983448e-07\n",
      "Epoch 2 | Step 6900 | loss = 0.196, acc = 0.907\n",
      "step: 7000, learning_rate: 6.021112993613971e-07\n",
      "Epoch 2 | Step 7000 | loss = 0.212, acc = 0.910\n",
      "step: 7100, learning_rate: 5.369477388244494e-07\n",
      "Epoch 2 | Step 7100 | loss = 0.262, acc = 0.880\n",
      "step: 7200, learning_rate: 4.717841782875017e-07\n",
      "Epoch 2 | Step 7200 | loss = 0.205, acc = 0.905\n",
      "step: 7300, learning_rate: 4.066206177505539e-07\n",
      "Epoch 2 | Step 7300 | loss = 0.293, acc = 0.873\n",
      "step: 7400, learning_rate: 3.414570572136062e-07\n",
      "Epoch 2 | Step 7400 | loss = 0.215, acc = 0.917\n",
      "step: 7500, learning_rate: 2.7629349667665843e-07\n",
      "Epoch 2 | Step 7500 | loss = 0.258, acc = 0.873\n",
      "step: 7600, learning_rate: 2.111299361397107e-07\n",
      "Epoch 2 | Step 7600 | loss = 0.241, acc = 0.870\n",
      "step: 7700, learning_rate: 1.4596637560276295e-07\n",
      "Epoch 2 | Step 7700 | loss = 0.205, acc = 0.897\n",
      "step: 7800, learning_rate: 8.08028150658152e-08\n",
      "Epoch 2 | Step 7800 | loss = 0.274, acc = 0.873\n",
      "step: 7900, learning_rate: 1.563925452886746e-08\n",
      "Epoch 2 | Step 7900 | loss = 0.150, acc = 0.927\n",
      "Evaluating Dev Set ...\n"
     ]
    },
    {
     "data": {
      "application/vnd.jupyter.widget-view+json": {
       "model_id": "b49aab7ed2164d788755b2b6137d9eac",
       "version_major": 2,
       "version_minor": 0
      },
      "text/plain": [
       "  0%|          | 0/4131 [00:00<?, ?it/s]"
      ]
     },
     "metadata": {},
     "output_type": "display_data"
    },
    {
     "name": "stdout",
     "output_type": "stream",
     "text": [
      "Validation | Epoch 2 | acc = 0.791\n",
      "Saving Model ...\n"
     ]
    }
   ],
   "source": [
    "num_epoch = 2\n",
    "validation = True\n",
    "logging_step = 100\n",
    "learning_rate = 1e-5\n",
    "optimizer = AdamW(model.parameters(), lr=learning_rate)\n",
    "\n",
    "# ref: https://wellbay.cc/thread-3314322.htm\n",
    "import transformers\n",
    "scheduler = transformers.get_linear_schedule_with_warmup(optimizer, num_warmup_steps=500, num_training_steps=7923*num_epoch)\n",
    "\n",
    "# # ref: https://pytorch.org/docs/stable/generated/torch.optim.lr_scheduler.LinearLR.html\n",
    "# scheduler = torch.optim.lr_scheduler.LinearLR(optimizer, total_iters=num_epoch*991)\n",
    "\n",
    "# # https://www.cxymm.net/article/weixin_44965023/120423117\n",
    "# scheduler = torch.optim.lr_scheduler.StepLR(optimizer, step_size=5, gamma=0.999)\n",
    "\n",
    "lr = []\n",
    "\n",
    "if fp16_training:\n",
    "    model, optimizer, train_loader = accelerator.prepare(model, optimizer, train_loader) \n",
    "\n",
    "model.train()\n",
    "\n",
    "print(\"Start Training ...\")\n",
    "\n",
    "for epoch in range(num_epoch):\n",
    "    step = 1\n",
    "    train_loss = train_acc = 0\n",
    "    \n",
    "    for data in tqdm(train_loader):\n",
    "        # Load all data into GPU\n",
    "        data = [i.to(device) for i in data]\n",
    "        \n",
    "        # Model inputs: input_ids, token_type_ids, attention_mask, start_positions, end_positions (Note: only \"input_ids\" is mandatory)\n",
    "        # Model outputs: start_logits, end_logits, loss (return when start_positions/end_positions are provided)  \n",
    "        output = model(input_ids=data[0], token_type_ids=data[1], attention_mask=data[2], start_positions=data[3], end_positions=data[4])\n",
    "\n",
    "        # Choose the most probable start position / end position\n",
    "        start_index = torch.argmax(output.start_logits, dim=1)\n",
    "        end_index = torch.argmax(output.end_logits, dim=1)\n",
    "        \n",
    "        # Prediction is correct only if both start_index and end_index are correct\n",
    "        train_acc += ((start_index == data[3]) & (end_index == data[4])).float().mean()\n",
    "        train_loss += output.loss\n",
    "        \n",
    "        if fp16_training:\n",
    "            accelerator.backward(output.loss)\n",
    "        else:\n",
    "            output.loss.backward()\n",
    "        \n",
    "        optimizer.step()\n",
    "        optimizer.zero_grad()\n",
    "        step += 1\n",
    "\n",
    "        ##### TODO: Apply linear learning rate decay #####\n",
    "        scheduler.step()\n",
    "        lr.append(scheduler.optimizer.param_groups[0]['lr'])\n",
    "        if step % 100 == 0:\n",
    "            print(f\"step: {step}, learning_rate: {scheduler.optimizer.param_groups[0]['lr']}\")\n",
    "        \n",
    "        # Print training loss and accuracy over past logging step\n",
    "        if step % logging_step == 0:\n",
    "            print(f\"Epoch {epoch + 1} | Step {step} | loss = {train_loss.item() / logging_step:.3f}, acc = {train_acc / logging_step:.3f}\")\n",
    "            train_loss = train_acc = 0\n",
    "\n",
    "    if validation:\n",
    "        print(\"Evaluating Dev Set ...\")\n",
    "        model.eval()\n",
    "        with torch.no_grad():\n",
    "            dev_acc = 0\n",
    "            for i, data in enumerate(tqdm(dev_loader)):\n",
    "                output = model(input_ids=data[0].squeeze(dim=0).to(device), token_type_ids=data[1].squeeze(dim=0).to(device),\n",
    "                       attention_mask=data[2].squeeze(dim=0).to(device))\n",
    "                # prediction is correct only if answer text exactly matches\n",
    "                dev_acc += evaluate(data, output) == dev_questions[i][\"answer_text\"]\n",
    "            print(f\"Validation | Epoch {epoch + 1} | acc = {dev_acc / len(dev_loader):.3f}\")\n",
    "        model.train()\n",
    "\n",
    "# Save a model and its configuration file to the directory 「saved_model」 \n",
    "# i.e. there are two files under the direcory 「saved_model」: 「pytorch_model.bin」 and 「config.json」\n",
    "# Saved model can be re-loaded using 「model = BertForQuestionAnswering.from_pretrained(\"saved_model\")」\n",
    "print(\"Saving Model ...\")\n",
    "model_save_dir = \"saved_model\" \n",
    "model.save_pretrained(model_save_dir)"
   ]
  },
  {
   "cell_type": "markdown",
   "metadata": {
    "id": "kMmdLOKBMsdE"
   },
   "source": [
    "## Testing"
   ]
  },
  {
   "cell_type": "code",
   "execution_count": 10,
   "metadata": {
    "id": "U5scNKC9xz0C"
   },
   "outputs": [
    {
     "name": "stdout",
     "output_type": "stream",
     "text": [
      "Evaluating Test Set ...\n"
     ]
    },
    {
     "data": {
      "application/vnd.jupyter.widget-view+json": {
       "model_id": "d62213d91f094e9cac3c395074999416",
       "version_major": 2,
       "version_minor": 0
      },
      "text/plain": [
       "  0%|          | 0/4957 [00:00<?, ?it/s]"
      ]
     },
     "metadata": {},
     "output_type": "display_data"
    },
    {
     "name": "stdout",
     "output_type": "stream",
     "text": [
      "Completed! Result is in result.csv\n"
     ]
    }
   ],
   "source": [
    "print(\"Evaluating Test Set ...\")\n",
    "\n",
    "result = []\n",
    "\n",
    "model.eval()\n",
    "with torch.no_grad():\n",
    "    for data in tqdm(test_loader):\n",
    "        output = model(input_ids=data[0].squeeze(dim=0).to(device), token_type_ids=data[1].squeeze(dim=0).to(device),\n",
    "                       attention_mask=data[2].squeeze(dim=0).to(device))\n",
    "        result.append(evaluate(data, output))\n",
    "\n",
    "result_file = \"result.csv\"\n",
    "with open(result_file, 'w') as f:\t\n",
    "\t  f.write(\"ID,Answer\\n\")\n",
    "\t  for i, test_question in enumerate(test_questions):\n",
    "        # Replace commas in answers with empty strings (since csv is separated by comma)\n",
    "        # Answers in kaggle are processed in the same way\n",
    "\t\t    f.write(f\"{test_question['id']},{result[i].replace(',','')}\\n\")\n",
    "\n",
    "print(f\"Completed! Result is in {result_file}\")"
   ]
  },
  {
   "cell_type": "code",
   "execution_count": null,
   "metadata": {},
   "outputs": [],
   "source": []
  }
 ],
 "metadata": {
  "accelerator": "GPU",
  "colab": {
   "collapsed_sections": [],
   "name": "ML2022Spring - HW7.ipynb",
   "provenance": []
  },
  "kernelspec": {
   "display_name": "Python 3",
   "language": "python",
   "name": "python3"
  },
  "language_info": {
   "codemirror_mode": {
    "name": "ipython",
    "version": 3
   },
   "file_extension": ".py",
   "mimetype": "text/x-python",
   "name": "python",
   "nbconvert_exporter": "python",
   "pygments_lexer": "ipython3",
   "version": "3.6.9"
  }
 },
 "nbformat": 4,
 "nbformat_minor": 4
}
